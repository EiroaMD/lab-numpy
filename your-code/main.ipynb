{
 "cells": [
  {
   "cell_type": "markdown",
   "metadata": {},
   "source": [
    "# Intrduction to NumPy\n",
    "\n",
    "\n",
    "#### 1. Import NumPy under the name np."
   ]
  },
  {
   "cell_type": "code",
   "execution_count": 1,
   "metadata": {},
   "outputs": [],
   "source": [
    "# your code here\n",
    "import numpy as np"
   ]
  },
  {
   "cell_type": "markdown",
   "metadata": {},
   "source": [
    "#### 2. Print your NumPy version."
   ]
  },
  {
   "cell_type": "code",
   "execution_count": 2,
   "metadata": {},
   "outputs": [
    {
     "data": {
      "text/plain": [
       "'1.16.4'"
      ]
     },
     "execution_count": 2,
     "metadata": {},
     "output_type": "execute_result"
    }
   ],
   "source": [
    "# your code here\n",
    "np.version.version"
   ]
  },
  {
   "cell_type": "markdown",
   "metadata": {},
   "source": [
    "#### 3. Generate a 2x3x5 3-dimensional array with random values. Assign the array to variable *a*.\n",
    "**Challenge**: there are at least three easy ways that use numpy to generate random arrays. How many ways can you find?"
   ]
  },
  {
   "cell_type": "code",
   "execution_count": 3,
   "metadata": {},
   "outputs": [],
   "source": [
    "# Method 1\n",
    "a = np.random.random((2,3,5))"
   ]
  },
  {
   "cell_type": "code",
   "execution_count": 4,
   "metadata": {},
   "outputs": [],
   "source": [
    "# Method 2"
   ]
  },
  {
   "cell_type": "code",
   "execution_count": 5,
   "metadata": {},
   "outputs": [],
   "source": [
    "# Method 3"
   ]
  },
  {
   "cell_type": "markdown",
   "metadata": {},
   "source": [
    "#### 4. Print *a*.\n"
   ]
  },
  {
   "cell_type": "code",
   "execution_count": 6,
   "metadata": {},
   "outputs": [
    {
     "data": {
      "text/plain": [
       "array([[[0.95077752, 0.63562174, 0.35797415, 0.95824172, 0.94672259],\n",
       "        [0.52554109, 0.43267998, 0.40024113, 0.26484155, 0.40354357],\n",
       "        [0.85923553, 0.70431443, 0.36267395, 0.22132357, 0.28590317]],\n",
       "\n",
       "       [[0.18347061, 0.99339805, 0.93212045, 0.72152553, 0.42570688],\n",
       "        [0.31296066, 0.51509676, 0.41639017, 0.17808356, 0.16479856],\n",
       "        [0.57547797, 0.6305426 , 0.78972963, 0.85303668, 0.93393888]]])"
      ]
     },
     "execution_count": 6,
     "metadata": {},
     "output_type": "execute_result"
    }
   ],
   "source": [
    "a"
   ]
  },
  {
   "cell_type": "markdown",
   "metadata": {},
   "source": [
    "#### 5. Create a 5x2x3 3-dimensional array with all values equaling 1. Assign the array to variable *b*."
   ]
  },
  {
   "cell_type": "code",
   "execution_count": 7,
   "metadata": {},
   "outputs": [],
   "source": [
    "b = np.ones((5,2,3), dtype=int)"
   ]
  },
  {
   "cell_type": "markdown",
   "metadata": {},
   "source": [
    "#### 6. Print *b*.\n"
   ]
  },
  {
   "cell_type": "code",
   "execution_count": 8,
   "metadata": {},
   "outputs": [
    {
     "data": {
      "text/plain": [
       "array([[[1, 1, 1],\n",
       "        [1, 1, 1]],\n",
       "\n",
       "       [[1, 1, 1],\n",
       "        [1, 1, 1]],\n",
       "\n",
       "       [[1, 1, 1],\n",
       "        [1, 1, 1]],\n",
       "\n",
       "       [[1, 1, 1],\n",
       "        [1, 1, 1]],\n",
       "\n",
       "       [[1, 1, 1],\n",
       "        [1, 1, 1]]])"
      ]
     },
     "execution_count": 8,
     "metadata": {},
     "output_type": "execute_result"
    }
   ],
   "source": [
    "b"
   ]
  },
  {
   "cell_type": "markdown",
   "metadata": {},
   "source": [
    "#### 7. Do *a* and *b* have the same size? How do you prove that in Python code?"
   ]
  },
  {
   "cell_type": "code",
   "execution_count": 9,
   "metadata": {},
   "outputs": [
    {
     "name": "stdout",
     "output_type": "stream",
     "text": [
      "(2, 3, 5)\n",
      "(5, 2, 3)\n"
     ]
    },
    {
     "data": {
      "text/plain": [
       "False"
      ]
     },
     "execution_count": 9,
     "metadata": {},
     "output_type": "execute_result"
    }
   ],
   "source": [
    "print(np.shape(a))\n",
    "print(np.shape(b))\n",
    "np.shape(a) == np.shape(b)"
   ]
  },
  {
   "cell_type": "markdown",
   "metadata": {},
   "source": [
    "#### 8. Are you able to add *a* and *b*? Why or why not?\n"
   ]
  },
  {
   "cell_type": "code",
   "execution_count": 10,
   "metadata": {},
   "outputs": [
    {
     "ename": "ValueError",
     "evalue": "operands could not be broadcast together with shapes (2,3,5) (5,2,3) ",
     "output_type": "error",
     "traceback": [
      "\u001b[0;31m---------------------------------------------------------------------------\u001b[0m",
      "\u001b[0;31mValueError\u001b[0m                                Traceback (most recent call last)",
      "\u001b[0;32m<ipython-input-10-d5ce9f282037>\u001b[0m in \u001b[0;36m<module>\u001b[0;34m\u001b[0m\n\u001b[0;32m----> 1\u001b[0;31m \u001b[0mnp\u001b[0m\u001b[0;34m.\u001b[0m\u001b[0madd\u001b[0m\u001b[0;34m(\u001b[0m\u001b[0ma\u001b[0m\u001b[0;34m,\u001b[0m\u001b[0mb\u001b[0m\u001b[0;34m)\u001b[0m\u001b[0;34m\u001b[0m\u001b[0;34m\u001b[0m\u001b[0m\n\u001b[0m",
      "\u001b[0;31mValueError\u001b[0m: operands could not be broadcast together with shapes (2,3,5) (5,2,3) "
     ]
    }
   ],
   "source": [
    "np.add(a,b)"
   ]
  },
  {
   "cell_type": "markdown",
   "metadata": {},
   "source": [
    "No, because they don't have the same shape."
   ]
  },
  {
   "cell_type": "markdown",
   "metadata": {},
   "source": [
    "#### 9. Transpose *b* so that it has the same structure of *a* (i.e. become a 2x3x5 array). Assign the transposed array to variable *c*."
   ]
  },
  {
   "cell_type": "code",
   "execution_count": 11,
   "metadata": {},
   "outputs": [
    {
     "data": {
      "text/plain": [
       "(2, 3, 5)"
      ]
     },
     "execution_count": 11,
     "metadata": {},
     "output_type": "execute_result"
    }
   ],
   "source": [
    "c = b.transpose(1,2,0)\n",
    "# Con los parámetros de transpose puedes jugar con la transposición\n",
    "np.shape(c)"
   ]
  },
  {
   "cell_type": "markdown",
   "metadata": {},
   "source": [
    "#### 10. Try to add *a* and *c*. Now it should work. Assign the sum to variable *d*. But why does it work now?"
   ]
  },
  {
   "cell_type": "code",
   "execution_count": 12,
   "metadata": {},
   "outputs": [
    {
     "data": {
      "text/plain": [
       "array([[[1.95077752, 1.63562174, 1.35797415, 1.95824172, 1.94672259],\n",
       "        [1.52554109, 1.43267998, 1.40024113, 1.26484155, 1.40354357],\n",
       "        [1.85923553, 1.70431443, 1.36267395, 1.22132357, 1.28590317]],\n",
       "\n",
       "       [[1.18347061, 1.99339805, 1.93212045, 1.72152553, 1.42570688],\n",
       "        [1.31296066, 1.51509676, 1.41639017, 1.17808356, 1.16479856],\n",
       "        [1.57547797, 1.6305426 , 1.78972963, 1.85303668, 1.93393888]]])"
      ]
     },
     "execution_count": 12,
     "metadata": {},
     "output_type": "execute_result"
    }
   ],
   "source": [
    "d = np.add(a,c)\n",
    "d"
   ]
  },
  {
   "cell_type": "markdown",
   "metadata": {},
   "source": [
    "#### 11. Print *a* and *d*. Notice the difference and relation of the two array in terms of the values? Explain."
   ]
  },
  {
   "cell_type": "code",
   "execution_count": 13,
   "metadata": {},
   "outputs": [
    {
     "name": "stdout",
     "output_type": "stream",
     "text": [
      "[[[0.95077752 0.63562174 0.35797415 0.95824172 0.94672259]\n",
      "  [0.52554109 0.43267998 0.40024113 0.26484155 0.40354357]\n",
      "  [0.85923553 0.70431443 0.36267395 0.22132357 0.28590317]]\n",
      "\n",
      " [[0.18347061 0.99339805 0.93212045 0.72152553 0.42570688]\n",
      "  [0.31296066 0.51509676 0.41639017 0.17808356 0.16479856]\n",
      "  [0.57547797 0.6305426  0.78972963 0.85303668 0.93393888]]]\n",
      "\n",
      "\n",
      "[[[1.95077752 1.63562174 1.35797415 1.95824172 1.94672259]\n",
      "  [1.52554109 1.43267998 1.40024113 1.26484155 1.40354357]\n",
      "  [1.85923553 1.70431443 1.36267395 1.22132357 1.28590317]]\n",
      "\n",
      " [[1.18347061 1.99339805 1.93212045 1.72152553 1.42570688]\n",
      "  [1.31296066 1.51509676 1.41639017 1.17808356 1.16479856]\n",
      "  [1.57547797 1.6305426  1.78972963 1.85303668 1.93393888]]]\n"
     ]
    }
   ],
   "source": [
    "print(a)\n",
    "print(\"\\n\")\n",
    "print(d)\n",
    "# d = a+1 for every element in every matrix"
   ]
  },
  {
   "cell_type": "markdown",
   "metadata": {},
   "source": [
    "#### 12. Multiply *a* and *c*. Assign the result to *e*."
   ]
  },
  {
   "cell_type": "code",
   "execution_count": 14,
   "metadata": {},
   "outputs": [
    {
     "data": {
      "text/plain": [
       "array([[[0.95077752, 0.63562174, 0.35797415, 0.95824172, 0.94672259],\n",
       "        [0.52554109, 0.43267998, 0.40024113, 0.26484155, 0.40354357],\n",
       "        [0.85923553, 0.70431443, 0.36267395, 0.22132357, 0.28590317]],\n",
       "\n",
       "       [[0.18347061, 0.99339805, 0.93212045, 0.72152553, 0.42570688],\n",
       "        [0.31296066, 0.51509676, 0.41639017, 0.17808356, 0.16479856],\n",
       "        [0.57547797, 0.6305426 , 0.78972963, 0.85303668, 0.93393888]]])"
      ]
     },
     "execution_count": 14,
     "metadata": {},
     "output_type": "execute_result"
    }
   ],
   "source": [
    "e = np.multiply(a,c)\n",
    "e"
   ]
  },
  {
   "cell_type": "markdown",
   "metadata": {},
   "source": [
    "#### 13. Does *e* equal to *a*? Why or why not?\n"
   ]
  },
  {
   "cell_type": "markdown",
   "metadata": {
    "collapsed": true
   },
   "source": [
    "Yes, because every element is multiplied by 1"
   ]
  },
  {
   "cell_type": "markdown",
   "metadata": {},
   "source": [
    "#### 14. Identify the max, min, and mean values in *d*. Assign those values to variables *d_max*, *d_min* and *d_mean*."
   ]
  },
  {
   "cell_type": "code",
   "execution_count": 15,
   "metadata": {},
   "outputs": [
    {
     "name": "stdout",
     "output_type": "stream",
     "text": [
      "1.9933980484516738\n",
      "1.1647985625190147\n",
      "1.5645304232359318\n"
     ]
    }
   ],
   "source": [
    "d_max = d.max()\n",
    "d_min = d.min()\n",
    "d_mean = d.mean()\n",
    "print(d_max)\n",
    "print(d_min)\n",
    "print(d_mean)"
   ]
  },
  {
   "cell_type": "markdown",
   "metadata": {},
   "source": [
    "#### 15. Now we want to label the values in *d*. First create an empty array *f* with the same shape (i.e. 2x3x5) as *d* using `np.empty`.\n"
   ]
  },
  {
   "cell_type": "code",
   "execution_count": 16,
   "metadata": {},
   "outputs": [],
   "source": [
    "f = np.empty((2,3,5))"
   ]
  },
  {
   "cell_type": "markdown",
   "metadata": {},
   "source": [
    "#### 16. Populate the values in *f*. \n",
    "\n",
    "For each value in *d*, if it's larger than *d_min* but smaller than *d_mean*, assign 25 to the corresponding value in *f*. If a value in *d* is larger than *d_mean* but smaller than *d_max*, assign 75 to the corresponding value in *f*. If a value equals to *d_mean*, assign 50 to the corresponding value in *f*. Assign 0 to the corresponding value(s) in *f* for *d_min* in *d*. Assign 100 to the corresponding value(s) in *f* for *d_max* in *d*. In the end, f should have only the following values: 0, 25, 50, 75, and 100.\n",
    "\n",
    "**Note**: you don't have to use Numpy in this question."
   ]
  },
  {
   "cell_type": "code",
   "execution_count": 17,
   "metadata": {},
   "outputs": [
    {
     "name": "stdout",
     "output_type": "stream",
     "text": [
      "(2, 3, 5)\n"
     ]
    }
   ],
   "source": [
    "print(np.shape(d))\n",
    "for x in range(np.shape(d)[0]):\n",
    "    for y in range(np.shape(d)[1]):\n",
    "        for z in range(np.shape(d)[2]):\n",
    "            if d[x][y][z] > d_min and d[x][y][z] < d_mean:\n",
    "                f[x][y][z] = 25\n",
    "            if d[x][y][z] > d_mean and d[x][y][z] < d_max:\n",
    "                f[x][y][z] = 75\n",
    "            if d[x][y][z] == d_mean:\n",
    "                f[x][y][z] = 50\n",
    "            if d[x][y][z] == d_min:\n",
    "                f[x][y][z] = 0\n",
    "            if d[x][y][z] == d_max:\n",
    "                f[x][y][z] = 100\n"
   ]
  },
  {
   "cell_type": "markdown",
   "metadata": {},
   "source": [
    "#### 17. Print *d* and *f*. Do you have your expected *f*?\n",
    "For instance, if your *d* is:\n",
    "```python\n",
    "[[[1.85836099, 1.67064465, 1.62576044, 1.40243961, 1.88454931],\n",
    "[1.75354326, 1.69403643, 1.36729252, 1.61415071, 1.12104981],\n",
    "[1.72201435, 1.1862918 , 1.87078449, 1.7726778 , 1.88180042]],\n",
    "[[1.44747908, 1.31673383, 1.02000951, 1.52218947, 1.97066381],\n",
    "[1.79129243, 1.74983003, 1.96028037, 1.85166831, 1.65450881],\n",
    "[1.18068344, 1.9587381 , 1.00656599, 1.93402165, 1.73514584]]]\n",
    "```\n",
    "Your *f* should be:\n",
    "```python\n",
    "[[[ 75.,  75.,  75.,  25.,  75.],\n",
    "[ 75.,  75.,  25.,  25.,  25.],\n",
    "[ 75.,  25.,  75.,  75.,  75.]],\n",
    "[[ 25.,  25.,  25.,  25., 100.],\n",
    "[ 75.,  75.,  75.,  75.,  75.],\n",
    "[ 25.,  75.,   0.,  75.,  75.]]]\n",
    "```"
   ]
  },
  {
   "cell_type": "code",
   "execution_count": 18,
   "metadata": {},
   "outputs": [
    {
     "name": "stdout",
     "output_type": "stream",
     "text": [
      "[[[1.95077752 1.63562174 1.35797415 1.95824172 1.94672259]\n",
      "  [1.52554109 1.43267998 1.40024113 1.26484155 1.40354357]\n",
      "  [1.85923553 1.70431443 1.36267395 1.22132357 1.28590317]]\n",
      "\n",
      " [[1.18347061 1.99339805 1.93212045 1.72152553 1.42570688]\n",
      "  [1.31296066 1.51509676 1.41639017 1.17808356 1.16479856]\n",
      "  [1.57547797 1.6305426  1.78972963 1.85303668 1.93393888]]]\n",
      "\n",
      "\n",
      "[[[ 75.  75.  25.  75.  75.]\n",
      "  [ 25.  25.  25.  25.  25.]\n",
      "  [ 75.  75.  25.  25.  25.]]\n",
      "\n",
      " [[ 25. 100.  75.  75.  25.]\n",
      "  [ 25.  25.  25.  25.   0.]\n",
      "  [ 75.  75.  75.  75.  75.]]]\n"
     ]
    }
   ],
   "source": [
    "print(d)\n",
    "print(\"\\n\")\n",
    "print(f)"
   ]
  },
  {
   "cell_type": "markdown",
   "metadata": {},
   "source": [
    "#### 18. Bonus question: instead of using numbers (i.e. 0, 25, 50, 75, and 100), use string values  (\"A\", \"B\", \"C\", \"D\", and \"E\") to label the array elements. For the example above, the expected result is:\n",
    "\n",
    "```python\n",
    "[[[ 'D',  'D',  'D',  'B',  'D'],\n",
    "[ 'D',  'D',  'B',  'B',  'B'],\n",
    "[ 'D',  'B',  'D',  'D',  'D']],\n",
    "[[ 'B',  'B',  'B',  'B',  'E'],\n",
    "[ 'D',  'D',  'D',  'D',  'D'],\n",
    "[ 'B',  'D',   'A',  'D', 'D']]]\n",
    "```\n",
    "**Note**: you don't have to use Numpy in this question."
   ]
  },
  {
   "cell_type": "code",
   "execution_count": 19,
   "metadata": {},
   "outputs": [],
   "source": [
    "# primero tengo que convertir el array de destino al tipo del que voy a meter elementos\n",
    "# el de origen no lo toco porque si no no me hace la comparación numérica\n",
    "f = np.array(f,dtype=str)"
   ]
  },
  {
   "cell_type": "code",
   "execution_count": 20,
   "metadata": {},
   "outputs": [],
   "source": [
    "for x in range(np.shape(d)[0]):\n",
    "    for y in range(np.shape(d)[1]):\n",
    "        for z in range(np.shape(d)[2]):\n",
    "            if d[x][y][z] > d_min and d[x][y][z] < d_mean:\n",
    "                f[x][y][z] = 'B'\n",
    "            if d[x][y][z] > d_mean and d[x][y][z] < d_max:\n",
    "                f[x][y][z] = 'D'\n",
    "            if d[x][y][z] == d_mean:\n",
    "                f[x][y][z] = 'C'\n",
    "            if d[x][y][z] == d_min:\n",
    "                f[x][y][z] = 'A'\n",
    "            if d[x][y][z] == d_max:\n",
    "                f[x][y][z] = 'E'"
   ]
  },
  {
   "cell_type": "code",
   "execution_count": 21,
   "metadata": {},
   "outputs": [
    {
     "name": "stdout",
     "output_type": "stream",
     "text": [
      "[[[1.95077752 1.63562174 1.35797415 1.95824172 1.94672259]\n",
      "  [1.52554109 1.43267998 1.40024113 1.26484155 1.40354357]\n",
      "  [1.85923553 1.70431443 1.36267395 1.22132357 1.28590317]]\n",
      "\n",
      " [[1.18347061 1.99339805 1.93212045 1.72152553 1.42570688]\n",
      "  [1.31296066 1.51509676 1.41639017 1.17808356 1.16479856]\n",
      "  [1.57547797 1.6305426  1.78972963 1.85303668 1.93393888]]]\n",
      "\n",
      "\n",
      "[[['D' 'D' 'B' 'D' 'D']\n",
      "  ['B' 'B' 'B' 'B' 'B']\n",
      "  ['D' 'D' 'B' 'B' 'B']]\n",
      "\n",
      " [['B' 'E' 'D' 'D' 'B']\n",
      "  ['B' 'B' 'B' 'B' 'A']\n",
      "  ['D' 'D' 'D' 'D' 'D']]]\n"
     ]
    }
   ],
   "source": [
    "print(d)\n",
    "print(\"\\n\")\n",
    "print(f)"
   ]
  }
 ],
 "metadata": {
  "kernelspec": {
   "display_name": "Python 3",
   "language": "python",
   "name": "python3"
  },
  "language_info": {
   "codemirror_mode": {
    "name": "ipython",
    "version": 3
   },
   "file_extension": ".py",
   "mimetype": "text/x-python",
   "name": "python",
   "nbconvert_exporter": "python",
   "pygments_lexer": "ipython3",
   "version": "3.6.7"
  }
 },
 "nbformat": 4,
 "nbformat_minor": 2
}
